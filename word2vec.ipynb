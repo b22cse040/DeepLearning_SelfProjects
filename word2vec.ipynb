{
 "cells": [
  {
   "cell_type": "code",
   "execution_count": 5,
   "metadata": {},
   "outputs": [],
   "source": [
    "import numpy as np\n",
    "import torch\n",
    "import torch.nn as nn\n",
    "import torch.optim as optim"
   ]
  },
  {
   "cell_type": "code",
   "execution_count": 6,
   "metadata": {},
   "outputs": [],
   "source": [
    "from torch.utils.data import Dataset, DataLoader\n",
    "\n",
    "class SkipGramDataset(Dataset):\n",
    "    def __init__(self, skip_gram, voc_size):\n",
    "        self.skip_grams = skip_gram\n",
    "        self.voc_size = voc_size\n",
    "\n",
    "    def __len__(self):\n",
    "        return len(self.skip_grams)\n",
    "    \n",
    "    def __getitem__(self, idx):\n",
    "        target, context = self.skip_grams[idx]\n",
    "        target_one_hot = np.eye(self.voc_size)[target]\n",
    "        return torch.tensor(target_one_hot, dtype=torch.float32), torch.tensor(context, dtype=torch.long)"
   ]
  },
  {
   "cell_type": "code",
   "execution_count": 14,
   "metadata": {},
   "outputs": [],
   "source": [
    "lr = 0.001\n",
    "batch_size = 2\n",
    "embedding_size = 25"
   ]
  },
  {
   "cell_type": "code",
   "execution_count": 9,
   "metadata": {},
   "outputs": [],
   "source": [
    "sentences = [\n",
    "    \"apple banana fruit orange lemon mango pear cherry banana apple\",\n",
    "    \"banana orange fruit pineapple watermelon mango orange banana kiwi grape\",\n",
    "    \"dog cat animal lion tiger elephant monkey cat dog zebra deer\",\n",
    "    \"cat monkey animal lion hippo tiger wolf fox bear rabbit\",\n",
    "    \"monkey dog animal lion crocodile tiger turtle parrot eagle owl\",\n",
    "    \"car truck vehicle bike motorcycle bus train airplane ship truck\",\n",
    "    \"python java programming coding algorithm data structure machine learning python\",\n",
    "    \"sun moon earth planet galaxy universe planet asteroid star moon\",\n",
    "    \"doctor patient hospital nurse medicine surgery pharmacy doctor treatment therapy\",\n",
    "    \"mountain river ocean desert forest valley river mountain waterfall canyon\"\n",
    "]"
   ]
  },
  {
   "cell_type": "code",
   "execution_count": 10,
   "metadata": {},
   "outputs": [],
   "source": [
    "word_sequences = \" \".join(sentences).split()\n",
    "word_list = \" \".join(sentences).split()\n",
    "word_list = list(set(word_list))\n",
    "voc_size = len(word_list)\n",
    "\n",
    "word_dict = {w: i for i, w in enumerate(word_list)}"
   ]
  },
  {
   "cell_type": "code",
   "execution_count": 13,
   "metadata": {},
   "outputs": [],
   "source": [
    "skip_grams = []\n",
    "for i in range(1, len(word_sequences) - 1):\n",
    "    target = word_dict[word_sequences[i]]\n",
    "    context = [word_dict[word_sequences[i - 1]], word_dict[word_sequences[i + 1]]]\n",
    "    for w in context:\n",
    "        skip_grams.append([target, w])\n",
    "\n",
    "dataset = SkipGramDataset(skip_grams, voc_size)\n",
    "data_loader = DataLoader(dataset, batch_size=batch_size, shuffle=True)"
   ]
  },
  {
   "cell_type": "code",
   "execution_count": 15,
   "metadata": {},
   "outputs": [],
   "source": [
    "class Word2Vec(nn.Module):\n",
    "    def __init__(self):\n",
    "        super(Word2Vec, self).__init__()\n",
    "        self.encoding = nn.Sequential(\n",
    "            nn.Linear(voc_size, embedding_size, bias=False),\n",
    "            nn.Linear(embedding_size, voc_size, bias=False)\n",
    "        )\n",
    "\n",
    "    def forward(self, X):\n",
    "        return self.encoding(X)\n",
    "    \n",
    "model = Word2Vec()\n",
    "loss_fn = nn.CrossEntropyLoss()\n",
    "optimizer = optim.Adam(model.parameters(), lr = lr)"
   ]
  },
  {
   "cell_type": "code",
   "execution_count": 17,
   "metadata": {},
   "outputs": [
    {
     "name": "stdout",
     "output_type": "stream",
     "text": [
      "Epoch 50, Loss: 1.705858\n",
      "Epoch 100, Loss: 0.862354\n",
      "Epoch 150, Loss: 1.136713\n",
      "Epoch 200, Loss: 0.763112\n",
      "Epoch 250, Loss: 1.367422\n",
      "Epoch 300, Loss: 1.160974\n",
      "Epoch 350, Loss: 0.985659\n",
      "Epoch 400, Loss: 1.319547\n",
      "Epoch 450, Loss: 1.172830\n",
      "Epoch 500, Loss: 0.821045\n",
      "Epoch 550, Loss: 1.169585\n",
      "Epoch 600, Loss: 0.929544\n",
      "Epoch 650, Loss: 0.832082\n",
      "Epoch 700, Loss: 1.397049\n",
      "Epoch 750, Loss: 0.814494\n",
      "Epoch 800, Loss: 1.938631\n",
      "Epoch 850, Loss: 0.999589\n",
      "Epoch 900, Loss: 0.958744\n",
      "Epoch 950, Loss: 1.368500\n",
      "Epoch 1000, Loss: 1.141733\n",
      "Epoch 1050, Loss: 0.862295\n",
      "Epoch 1100, Loss: 0.763290\n",
      "Epoch 1150, Loss: 1.199604\n",
      "Epoch 1200, Loss: 1.278880\n",
      "Epoch 1250, Loss: 0.981728\n",
      "Epoch 1300, Loss: 1.204401\n",
      "Epoch 1350, Loss: 0.910407\n",
      "Epoch 1400, Loss: 0.802931\n",
      "Epoch 1450, Loss: 1.156877\n",
      "Epoch 1500, Loss: 0.756709\n",
      "Epoch 1550, Loss: 0.948832\n",
      "Epoch 1600, Loss: 1.158357\n",
      "Epoch 1650, Loss: 0.610388\n",
      "Epoch 1700, Loss: 0.954892\n",
      "Epoch 1750, Loss: 0.835296\n",
      "Epoch 1800, Loss: 0.750849\n",
      "Epoch 1850, Loss: 1.374096\n",
      "Epoch 1900, Loss: 1.178261\n",
      "Epoch 1950, Loss: 0.830546\n",
      "Epoch 2000, Loss: 0.814061\n"
     ]
    }
   ],
   "source": [
    "max_epochs = 2000\n",
    "loss_after_epoch = []\n",
    "for epoch in range(max_epochs):\n",
    "    model.train()\n",
    "    avg_loss = 0.0\n",
    "    for input_batch, target_batch in data_loader:\n",
    "        optimizer.zero_grad()\n",
    "\n",
    "        yhat = model(input_batch)\n",
    "        loss = loss_fn(yhat, target_batch)\n",
    "\n",
    "        avg_loss += loss.item()\n",
    "\n",
    "        loss.backward()\n",
    "        optimizer.step()\n",
    "    avg_loss /= len(data_loader)\n",
    "    loss_after_epoch.append(avg_loss)\n",
    "\n",
    "    if((epoch + 1) % 50 == 0):\n",
    "        print(f\"Epoch {epoch + 1}, Loss: {loss.item():.6f}\")"
   ]
  },
  {
   "cell_type": "code",
   "execution_count": 18,
   "metadata": {},
   "outputs": [
    {
     "data": {
      "text/plain": [
       "Text(0.5, 1.0, 'Loss at Epoch')"
      ]
     },
     "execution_count": 18,
     "metadata": {},
     "output_type": "execute_result"
    },
    {
     "data": {
      "image/png": "[encoded data removed]",
      "text/plain": [
       "<Figure size 640x480 with 1 Axes>"
      ]
     },
     "metadata": {},
     "output_type": "display_data"
    }
   ],
   "source": [
    "import matplotlib.pyplot as plt\n",
    "\n",
    "plt.plot(loss_after_epoch)\n",
    "plt.grid(True)\n",
    "plt.xlabel(\"Epoch\")\n",
    "plt.ylabel(\"Loss\")\n",
    "plt.title(\"Loss at Epoch\")"
   ]
  }
 ],
 "metadata": {
  "kernelspec": {
   "display_name": "Torch",
   "language": "python",
   "name": "python3"
  },
  "language_info": {
   "codemirror_mode": {
    "name": "ipython",
    "version": 3
   },
   "file_extension": ".py",
   "mimetype": "text/x-python",
   "name": "python",
   "nbconvert_exporter": "python",
   "pygments_lexer": "ipython3",
   "version": "3.12.0"
  }
 },
 "nbformat": 4,
 "nbformat_minor": 2
}
